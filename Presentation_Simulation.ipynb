{
 "cells": [
  {
   "cell_type": "code",
   "execution_count": null,
   "metadata": {
    "scrolled": true
   },
   "outputs": [],
   "source": [
    "from bs4 import BeautifulSoup # For HTML parsing\n",
    "import requests # Website connections\n",
    "from time import sleep # To prevent overwhelming the server between connections\n",
    "from collections import Counter # Keep track of our term counts\n",
    "import pandas as pd # For converting results to a dataframe and bar chart plots\n",
    "import json # For parsing json\n",
    "%matplotlib inline\n",
    "\n",
    "def soup_of_steam(game_type,page):\n",
    "    page = int(page)-1\n",
    "    url = f'https://store.steampowered.com/tags/en/{game_type}/#p={page}&tab=TopSellers'\n",
    "    print(url)\n",
    "    request_result = requests.get(url)\n",
    "    soup= BeautifulSoup(request_result.content, 'lxml')\n",
    "    return soup\n",
    "\n",
    "soup = soup_of_steam('Simulation','3')\n",
    "\n",
    "game_name_list = []\n",
    "for listing in soup.find_all('div', {'id':'TopSellersRows'}):\n",
    "    for gamenames in listing.find_all('div', {'class':'tab_item_name'}):\n",
    "        game_names = gamenames.text.strip()\n",
    "        game_name_list.append(game_names)\n",
    "\n",
    "game_price_list = []\n",
    "for listing in soup.find_all('div', {'id':'TopSellersRows'}):\n",
    "    for gameprices in listing.find_all('div', {'class':'discount_final_price'}):\n",
    "        game_prices = gameprices.text.strip()\n",
    "        if game_prices == 'Free to Play':\n",
    "            game_prices = 'CDN$ 0.00'\n",
    "        else:\n",
    "            game_prices = game_prices\n",
    "        game_price_list.append(game_prices)\n",
    "\n",
    "game_prices_number = []\n",
    "for i in range(0,len(game_price_list)):\n",
    "    game_price_number = float(game_price_list[i][5:])\n",
    "    game_prices_number.append(game_price_number)\n",
    "    \n",
    "def merge(list1,list2,list3):\n",
    "    merged_list = [(list1[i],list2[i],list3[i]) for i in range(0,len(list1))]\n",
    "    return merged_list\n",
    "\n",
    "game_name_price = merge(game_name_list,game_price_list,game_prices_number)\n",
    "\n",
    "sortgames = sorted(game_name_price,key=lambda x:x[2])\n",
    "\n",
    "import pandas as pd\n",
    "\n",
    "df = pd.DataFrame(sortgames, columns=['game name', 'price','price number'])\n",
    "\n",
    "df = df.drop('price number',axis = 1)\n",
    "\n",
    "df"
   ]
  },
  {
   "cell_type": "code",
   "execution_count": null,
   "metadata": {},
   "outputs": [],
   "source": []
  }
 ],
 "metadata": {
  "kernelspec": {
   "display_name": "Python 3",
   "language": "python",
   "name": "python3"
  },
  "language_info": {
   "codemirror_mode": {
    "name": "ipython",
    "version": 3
   },
   "file_extension": ".py",
   "mimetype": "text/x-python",
   "name": "python",
   "nbconvert_exporter": "python",
   "pygments_lexer": "ipython3",
   "version": "3.7.6"
  }
 },
 "nbformat": 4,
 "nbformat_minor": 4
}
